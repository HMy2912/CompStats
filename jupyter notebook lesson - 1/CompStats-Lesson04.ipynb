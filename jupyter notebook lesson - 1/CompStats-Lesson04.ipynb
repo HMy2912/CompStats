{
 "cells": [
  {
   "cell_type": "code",
   "execution_count": 1,
   "metadata": {},
   "outputs": [],
   "source": [
    "import numpy as np\n",
    "import matplotlib.pyplot as plt\n",
    "import scipy.stats as stats"
   ]
  },
  {
   "cell_type": "markdown",
   "metadata": {},
   "source": [
    "# Bài 4 - Phương pháp Monte Carlo (Monte Carlo methods)\n",
    "\n",
    "**THỐNG KÊ MÁY TÍNH VÀ ỨNG DỤNG (CLC)**\n",
    "\n",
    "*(Vũ Quốc Hoàng, FIT - HCMUS, vqhoang@fit.hcmus.edu.vn)*"
   ]
  },
  {
   "cell_type": "markdown",
   "metadata": {},
   "source": [
    "## Chủ đề"
   ]
  },
  {
   "cell_type": "markdown",
   "metadata": {},
   "source": [
    "1. Phương pháp Monte Carlo\n",
    "2. Ước lượng  Monte Carlo\n",
    "3. Các phương pháp giảm phương sai\n",
    "4. Một số ứng dụng cho suy diễn thống kê"
   ]
  },
  {
   "cell_type": "markdown",
   "metadata": {},
   "source": [
    "## Minh họa mở đầu"
   ]
  },
  {
   "cell_type": "markdown",
   "metadata": {},
   "source": [
    "**Yêu cầu.** Tính tích phân\n",
    "$$\n",
    "I = \\int_{0}^{\\infty}x^{0.9}e^{-x}dx.\n",
    "$$"
   ]
  },
  {
   "cell_type": "code",
   "execution_count": 2,
   "metadata": {},
   "outputs": [
    {
     "data": {
      "text/plain": [
       "0.9618"
      ]
     },
     "execution_count": 2,
     "metadata": {},
     "output_type": "execute_result"
    }
   ],
   "source": [
    "import scipy.special\n",
    "round(scipy.special.gamma(1.9), 4)"
   ]
  },
  {
   "cell_type": "markdown",
   "metadata": {},
   "source": [
    "### Phương án 1"
   ]
  },
  {
   "cell_type": "code",
   "execution_count": 3,
   "metadata": {},
   "outputs": [
    {
     "name": "stdout",
     "output_type": "stream",
     "text": [
      "1.1692\n",
      "0.4118485430654809\n",
      "1696192\n"
     ]
    }
   ],
   "source": [
    "np.random.seed(2022)\n",
    "\n",
    "N = 10\n",
    "U = np.random.uniform(size=N)\n",
    "X = -np.log(U)\n",
    "Y = X**0.9\n",
    "\n",
    "I_hat = np.mean(Y)\n",
    "s = np.std(Y, ddof=1)\n",
    "ese = s/np.sqrt(len(Y))\n",
    "\n",
    "print(round(I_hat, 4))\n",
    "print(ese)\n",
    "print(round(N*(ese/10**(-3))**2))"
   ]
  },
  {
   "cell_type": "markdown",
   "metadata": {},
   "source": [
    "### Phương án 2"
   ]
  },
  {
   "cell_type": "code",
   "execution_count": 4,
   "metadata": {},
   "outputs": [
    {
     "name": "stdout",
     "output_type": "stream",
     "text": [
      "0.9408\n",
      "0.03751166584507751\n",
      "14071\n"
     ]
    }
   ],
   "source": [
    "np.random.seed(2022)\n",
    "\n",
    "N = 10\n",
    "U = np.random.uniform(size=N)\n",
    "X = -np.log(U[:N//2]*U[N//2:])\n",
    "Y = 1/X**0.1\n",
    "\n",
    "I_hat = np.mean(Y)\n",
    "s = np.std(Y, ddof=1)\n",
    "ese = s/np.sqrt(len(Y))\n",
    "\n",
    "print(round(I_hat, 4))\n",
    "print(ese)\n",
    "print(round(N*(ese/10**(-3))**2))"
   ]
  },
  {
   "cell_type": "code",
   "execution_count": 5,
   "metadata": {},
   "outputs": [
    {
     "name": "stdout",
     "output_type": "stream",
     "text": [
      "0.9609\n",
      "0.0009528044261455686\n"
     ]
    }
   ],
   "source": [
    "np.random.seed(2022)\n",
    "\n",
    "N = 7036*2\n",
    "U = np.random.uniform(size=N)\n",
    "X = -np.log(U[:N//2]*U[N//2:])\n",
    "Y = 1/X**0.1\n",
    "\n",
    "I_hat = np.mean(Y)\n",
    "s = np.std(Y, ddof=1)\n",
    "ese = s/np.sqrt(len(Y))\n",
    "\n",
    "print(round(I_hat, 4))\n",
    "print(ese)"
   ]
  },
  {
   "cell_type": "markdown",
   "metadata": {},
   "source": [
    "## Phương pháp Monte Carlo"
   ]
  },
  {
   "cell_type": "markdown",
   "metadata": {},
   "source": [
    "### Ví dụ 1"
   ]
  },
  {
   "cell_type": "code",
   "execution_count": 6,
   "metadata": {},
   "outputs": [
    {
     "name": "stdout",
     "output_type": "stream",
     "text": [
      "0.002\n",
      "0.4292\n"
     ]
    }
   ],
   "source": [
    "np.random.seed(2022)\n",
    "\n",
    "N = 10000\n",
    "X = np.random.normal(size=N)\n",
    "Y = np.sin(X)**2\n",
    "\n",
    "print(round(np.mean(X), 4))\n",
    "print(round(np.mean(Y), 4))"
   ]
  },
  {
   "cell_type": "markdown",
   "metadata": {},
   "source": [
    "### Ví dụ 2"
   ]
  },
  {
   "cell_type": "code",
   "execution_count": 7,
   "metadata": {},
   "outputs": [
    {
     "name": "stdout",
     "output_type": "stream",
     "text": [
      "0.8406\n",
      "0.8413\n"
     ]
    }
   ],
   "source": [
    "a = 1\n",
    "Z = (X <= a)\n",
    "\n",
    "print(round(np.mean(Z), 4))\n",
    "print(round(stats.norm.cdf(a), 4))"
   ]
  },
  {
   "cell_type": "markdown",
   "metadata": {},
   "source": [
    "### Ví dụ 3"
   ]
  },
  {
   "cell_type": "code",
   "execution_count": 8,
   "metadata": {},
   "outputs": [
    {
     "name": "stdout",
     "output_type": "stream",
     "text": [
      "8.0082\n"
     ]
    }
   ],
   "source": [
    "np.random.seed(2022)\n",
    "\n",
    "N = 10000\n",
    "X = np.random.uniform(0, 2*np.pi, size=N)\n",
    "Y = np.exp(np.cos(X))\n",
    "\n",
    "print(round(2*np.pi * np.mean(Y), 4))"
   ]
  },
  {
   "cell_type": "markdown",
   "metadata": {},
   "source": [
    "### Ví dụ 4"
   ]
  },
  {
   "cell_type": "code",
   "execution_count": 9,
   "metadata": {},
   "outputs": [],
   "source": [
    "# Algorithm ERS\n",
    "# Input:\n",
    "#   N: output sequence length\n",
    "#   f: the non-normalised target density\n",
    "#   gs: sampler for the proposal density\n",
    "#   g: the proposal density\n",
    "#   c > 0: such that f(x) <= c g(x) for all x\n",
    "# Output: a tuple (X, T)\n",
    "#   X: sequence X1, X2, X3, . . . iid with density f tiddle\n",
    "#   T: total number of proposals\n",
    "def ESR(N, f, gs, g, c):\n",
    "    T = 0\n",
    "    X = []\n",
    "    i = 0\n",
    "    while i < N:\n",
    "        T = T + 1\n",
    "        Xn = gs()\n",
    "        Un = np.random.uniform(size=1)\n",
    "        if c*g(Xn)*Un <= f(Xn):\n",
    "            i = i + 1\n",
    "            X.append(Xn)\n",
    "\n",
    "    return (np.array(X), T)"
   ]
  },
  {
   "cell_type": "code",
   "execution_count": 10,
   "metadata": {},
   "outputs": [
    {
     "name": "stdout",
     "output_type": "stream",
     "text": [
      "Acceptance rate (Z): 0.5721\n",
      "Mean: 0.7150834466451815\n",
      "Variance: 0.628833583272315\n"
     ]
    },
    {
     "data": {
      "image/png": "[encoded data removed]",
      "text/plain": [
       "<Figure size 432x288 with 1 Axes>"
      ]
     },
     "metadata": {
      "needs_background": "light"
     },
     "output_type": "display_data"
    }
   ],
   "source": [
    "np.random.seed(2022)\n",
    "\n",
    "N = 10000\n",
    "y = 0.3\n",
    "\n",
    "f = lambda x: 1/np.sqrt(x) * np.exp(-y**2/(2*x) - x) * (1 if x > 0 else 0)\n",
    "gs = lambda: np.random.exponential(size=1)\n",
    "g = lambda x: np.exp(-x)\n",
    "c = 1/np.abs(y) * np.exp(-1/2)\n",
    "\n",
    "x, T = ESR(N, f, gs, g, c)\n",
    "print(\"Acceptance rate (Z):\", round(N/T, 4))\n",
    "print(\"Mean:\", np.mean(x))\n",
    "print(\"Variance:\", np.var(x, ddof=1))\n",
    "\n",
    "t = np.linspace(0, np.max(x), num=100)\n",
    "\n",
    "plt.hist(x, bins=100, density=True, label=\"Posterior distribution $X|Y=y$\")\n",
    "plt.plot(t, stats.expon.pdf(t), label=r\"Prior distribution $X \\sim Exp(1)$\")\n",
    "plt.axvline(x=np.mean(x), color=\"red\", label=\"Posterior mean\")\n",
    "plt.legend()\n",
    "plt.title(\"Bayesian inference: $X \\sim Exp(1), Y \\sim \\mathcal{N}(0, X),$\" + \"$y = {0}, N = {1}$\".format(y, N))\n",
    "\n",
    "#plt.tight_layout()\n",
    "#plt.savefig(\"Bayes_1.pdf\")\n",
    "\n",
    "plt.show()"
   ]
  },
  {
   "cell_type": "code",
   "execution_count": 11,
   "metadata": {},
   "outputs": [
    {
     "name": "stdout",
     "output_type": "stream",
     "text": [
      "Acceptance rate (Z): 0.3458\n",
      "Mean: 1.951797830036798\n",
      "Variance: 1.2603030367570411\n"
     ]
    },
    {
     "data": {
      "image/png": "[encoded data removed]",
      "text/plain": [
       "<Figure size 432x288 with 1 Axes>"
      ]
     },
     "metadata": {
      "needs_background": "light"
     },
     "output_type": "display_data"
    }
   ],
   "source": [
    "np.random.seed(2022)\n",
    "\n",
    "N = 10000\n",
    "y = 2\n",
    "\n",
    "f = lambda x: 1/np.sqrt(x) * np.exp(-y**2/(2*x) - x) * (1 if x > 0 else 0)\n",
    "gs = lambda: np.random.exponential(size=1)\n",
    "g = lambda x: np.exp(-x)\n",
    "c = 1/np.abs(y) * np.exp(-1/2)\n",
    "\n",
    "x, T = ESR(N, f, gs, g, c)\n",
    "print(\"Acceptance rate (Z):\", round(N/T, 4))\n",
    "print(\"Mean:\", np.mean(x))\n",
    "print(\"Variance:\", np.var(x, ddof=1))\n",
    "\n",
    "t = np.linspace(0, np.max(x), num=100)\n",
    "\n",
    "plt.hist(x, bins=100, density=True, label=\"Posterior distribution $X|Y=y$\")\n",
    "plt.plot(t, stats.expon.pdf(t), label=r\"Prior distribution $X \\sim Exp(1)$\")\n",
    "plt.axvline(x=np.mean(x), color=\"red\", label=\"Posterior mean\")\n",
    "plt.legend()\n",
    "plt.title(\"Bayesian inference: $X \\sim Exp(1), Y \\sim \\mathcal{N}(0, X),$\" + \"$y = {0}, N = {1}$\".format(y, N))\n",
    "\n",
    "#plt.tight_layout()\n",
    "#plt.savefig(\"Bayes_2.pdf\")\n",
    "\n",
    "plt.show()"
   ]
  },
  {
   "cell_type": "markdown",
   "metadata": {},
   "source": [
    "## Ước lượng Monte Carlo"
   ]
  },
  {
   "cell_type": "code",
   "execution_count": 12,
   "metadata": {},
   "outputs": [
    {
     "data": {
      "image/png": "[encoded data removed]",
      "text/plain": [
       "<Figure size 432x288 with 2 Axes>"
      ]
     },
     "metadata": {
      "needs_background": "light"
     },
     "output_type": "display_data"
    }
   ],
   "source": [
    "def MC_estimator_sinX2(N):\n",
    "    X = np.random.normal(size=N)\n",
    "    Y = np.sin(X)**2\n",
    "    return np.mean(Y)\n",
    "    \n",
    "np.random.seed(2022)\n",
    "\n",
    "MC_est1 = np.fromiter((MC_estimator_sinX2(1000) for _ in range(5000)), dtype=float)\n",
    "MC_est2 = np.fromiter((MC_estimator_sinX2(10000) for _ in range(5000)), dtype=float)\n",
    "\n",
    "fig, (ax1, ax2) = plt.subplots(1, 2, sharey=True)\n",
    "ax1.hist(MC_est1, density=True, bins=30)\n",
    "ax1.axvline(x=np.mean(MC_est1), color=\"red\")\n",
    "ax1.set_xlim(0.4, 0.46)\n",
    "ax1.set_title(\"Mean: {0:.4f}, Var: {1:.8f}\".format(np.mean(MC_est1), np.var(MC_est1, ddof=1)))\n",
    "ax1.set_ylabel(\"Density\")\n",
    "ax1.set_xlabel(\"$Z_{1000}$\")\n",
    "ax2.hist(MC_est2, density=True, bins=20)\n",
    "ax2.axvline(x=np.mean(MC_est2), color=\"red\")\n",
    "ax2.set_xlim(0.4, 0.46)\n",
    "ax2.set_title(\"Mean: {0:.4f}, Var: {1:.8f}\".format(np.mean(MC_est2), np.var(MC_est2, ddof=1)))\n",
    "ax2.set_xlabel(\"$Z_{10000}$\")\n",
    "\n",
    "#plt.tight_layout()\n",
    "#plt.savefig(\"MC_error.pdf\")\n",
    "\n",
    "plt.show()"
   ]
  },
  {
   "cell_type": "markdown",
   "metadata": {},
   "source": [
    "## Các phương pháp giảm phương sai"
   ]
  },
  {
   "cell_type": "markdown",
   "metadata": {},
   "source": [
    "### Lấy mẫu quan trọng"
   ]
  },
  {
   "cell_type": "markdown",
   "metadata": {},
   "source": [
    "### Biến đối nghịch"
   ]
  },
  {
   "cell_type": "code",
   "execution_count": 13,
   "metadata": {},
   "outputs": [
    {
     "name": "stdout",
     "output_type": "stream",
     "text": [
      "0.15730535589982697 0.15738600000000003 0.15719139999999998\n",
      "MSE ratio: 79%\n"
     ]
    }
   ],
   "source": [
    "def MC_estimator(N):\n",
    "    X = np.random.normal(size=N)\n",
    "    return np.mean(np.logical_and(1 <= X, X <= 3))\n",
    "\n",
    "def AV_estimator(N):\n",
    "    X = np.random.normal(size=N//2)\n",
    "    X_prime = -X\n",
    "    X_a = np.append(X, X_prime)\n",
    "    return np.mean(np.logical_and(1 <= X_a, X_a <= 3))\n",
    "\n",
    "N = 10000\n",
    "MC_est = np.fromiter((MC_estimator(N) for _ in range(1000)), dtype=float)\n",
    "AV_est = np.fromiter((AV_estimator(N) for _ in range(1000)), dtype=float)\n",
    "\n",
    "p = stats.norm.cdf(3) - stats.norm.cdf(1)\n",
    "print(p, np.mean(MC_est), np.mean(AV_est))\n",
    "\n",
    "print(\"MSE ratio: {0:.0%}\".format(np.var(AV_est)/np.var(MC_est)))"
   ]
  },
  {
   "cell_type": "markdown",
   "metadata": {},
   "source": [
    "### Biến kiểm soát"
   ]
  },
  {
   "cell_type": "markdown",
   "metadata": {},
   "source": [
    "## Một số ứng dụng cho suy diễn thống kê"
   ]
  },
  {
   "cell_type": "markdown",
   "metadata": {},
   "source": [
    "### Ước lượng điểm"
   ]
  },
  {
   "cell_type": "code",
   "execution_count": 14,
   "metadata": {},
   "outputs": [],
   "source": [
    "def bias_rho(N, n, rho):\n",
    "    S = 0\n",
    "    for _ in range(N):\n",
    "        X = np.random.normal(size=n)\n",
    "        Eta = np.random.normal(size=n)\n",
    "        Y = rho*X + np.sqrt(1 - rho**2)*Eta\n",
    "        S = S + stats.pearsonr(X, Y)[0]\n",
    "\n",
    "    return (S/N - rho)\n",
    "\n",
    "n = 10\n",
    "N = 10000\n",
    "rho = np.linspace(-1, 1, num=40) # num=40\n",
    "bias = np.fromiter((bias_rho(N, n, r) for r in rho), float)"
   ]
  },
  {
   "cell_type": "code",
   "execution_count": 15,
   "metadata": {},
   "outputs": [
    {
     "data": {
      "image/png": "[encoded data removed]",
      "text/plain": [
       "<Figure size 432x288 with 1 Axes>"
      ]
     },
     "metadata": {
      "needs_background": "light"
     },
     "output_type": "display_data"
    }
   ],
   "source": [
    "from scipy.interpolate import UnivariateSpline\n",
    "\n",
    "spl = UnivariateSpline(rho, bias)\n",
    "spl_r = np.linspace(-1, 1, 100)\n",
    "\n",
    "plt.plot(rho, bias, \"bo\", mfc=\"none\")\n",
    "plt.plot(spl_r, spl(spl_r), color=\"red\")\n",
    "plt.xlabel(r\"$\\rho$\")\n",
    "plt.ylabel(\"Estimated bias\")\n",
    "\n",
    "#plt.tight_layout()\n",
    "#plt.savefig(\"bias_rho_estimated.pdf\")\n",
    "\n",
    "plt.show()"
   ]
  },
  {
   "cell_type": "markdown",
   "metadata": {},
   "source": [
    "### Khoảng tin cậy"
   ]
  },
  {
   "cell_type": "code",
   "execution_count": 16,
   "metadata": {},
   "outputs": [],
   "source": [
    "def confint_lambda(N, n, lam, alpha=0.05):\n",
    "    k = 0\n",
    "    for _ in range(N):\n",
    "        X = np.random.poisson(lam, size=n)\n",
    "        mu, sigma = np.mean(X), np.std(X, ddof=1)\n",
    "        epsilon = stats.t.ppf(1-alpha/2, n - 1)*sigma/np.sqrt(n)\n",
    "        U, V = mu - epsilon, mu + epsilon\n",
    "        if U <= lam <= V:\n",
    "            k = k + 1\n",
    "\n",
    "    return (k/N)\n",
    "\n",
    "n = 10\n",
    "N = 10000\n",
    "alpha = 0.05\n",
    "\n",
    "lams = np.linspace(0.001, 1, num=40) # num=40\n",
    "conf = np.fromiter((confint_lambda(N, n, lam, alpha) for lam in lams), float)"
   ]
  },
  {
   "cell_type": "code",
   "execution_count": 17,
   "metadata": {},
   "outputs": [
    {
     "data": {
      "image/png": "[encoded data removed]",
      "text/plain": [
       "<Figure size 432x288 with 1 Axes>"
      ]
     },
     "metadata": {
      "needs_background": "light"
     },
     "output_type": "display_data"
    }
   ],
   "source": [
    "plt.plot(lams, conf, \"bo\", mfc=\"none\")\n",
    "plt.axhline(y=1 - alpha, color=\"red\")\n",
    "plt.ylim(0, 1)\n",
    "plt.xlabel(r\"$\\lambda$\")\n",
    "plt.ylabel(\"Confidence coefficient\")\n",
    "\n",
    "#plt.tight_layout()\n",
    "#plt.savefig(\"confint_lambda.pdf\")\n",
    "\n",
    "plt.show()"
   ]
  },
  {
   "cell_type": "markdown",
   "metadata": {},
   "source": [
    "### Kiểm định giả thuyết"
   ]
  },
  {
   "cell_type": "markdown",
   "metadata": {},
   "source": [
    "## Tài liệu"
   ]
  },
  {
   "cell_type": "markdown",
   "metadata": {},
   "source": [
    "Sinh viên coi thêm các tài liệu sau\n",
    "\n",
    "1. **Chapter 3.** Jochen Voss. *An Introduction to Statistical Computing - A Simulation-based Approach*. John Wiley \\& Sons, 2014.\n",
    "\n",
    "2. **Chapter 1, 5.** J. S. Dagpunar. *Simulation and Monte Carlo - With applications in finance and MCMC*. John Wiley \\& Sons, 2007."
   ]
  }
 ],
 "metadata": {
  "kernelspec": {
   "display_name": "Python 3",
   "language": "python",
   "name": "python3"
  },
  "language_info": {
   "codemirror_mode": {
    "name": "ipython",
    "version": 3
   },
   "file_extension": ".py",
   "mimetype": "text/x-python",
   "name": "python",
   "nbconvert_exporter": "python",
   "pygments_lexer": "ipython3",
   "version": "3.8.8"
  }
 },
 "nbformat": 4,
 "nbformat_minor": 4
}
