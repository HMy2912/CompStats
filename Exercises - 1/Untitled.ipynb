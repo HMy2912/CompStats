{
 "cells": [
  {
   "cell_type": "markdown",
   "id": "40fa20b5",
   "metadata": {},
   "source": [
    "### 19127216 - Đặng Hoàn Mỹ"
   ]
  },
  {
   "cell_type": "code",
   "execution_count": 1,
   "id": "c32d6010",
   "metadata": {},
   "outputs": [],
   "source": [
    "import random\n",
    "import itertools\n",
    "import numpy as np\n",
    "import seaborn as sns"
   ]
  },
  {
   "cell_type": "markdown",
   "id": "357d6c53",
   "metadata": {},
   "source": [
    "1. Bốc ngẫu nhiên 10 viên bi trong hộp gồm 8 bi Đỏ và 12 bi Đen. Tính xác suất bốc được đúng 5 bi Đỏ trong các trường hợp\n",
    "**(a) Bốc có hoàn lại.**"
   ]
  },
  {
   "cell_type": "code",
   "execution_count": 2,
   "id": "c20a40f5",
   "metadata": {},
   "outputs": [],
   "source": [
    "a = ['R', 'R', 'R', 'R', 'R', 'R', 'R', 'R', 'B', 'B', 'B', 'B', 'B', 'B', 'B', 'B', 'B', 'B', 'B', 'B']"
   ]
  },
  {
   "cell_type": "code",
   "execution_count": 3,
   "id": "724731ef",
   "metadata": {
    "scrolled": true
   },
   "outputs": [
    {
     "data": {
      "text/plain": [
       "0.1949"
      ]
     },
     "execution_count": 3,
     "metadata": {},
     "output_type": "execute_result"
    }
   ],
   "source": [
    "def boc(a):\n",
    "    b = []\n",
    "    for i in range(10):\n",
    "        b.append(random.choice(a))\n",
    "    return b\n",
    "\n",
    "def check_boc(b):\n",
    "    return b.count('R') == 5\n",
    "\n",
    "def fre(a, N, event):\n",
    "    m = sum(event(boc(a)) for _ in range(N))\n",
    "    return m/N\n",
    "\n",
    "fre(a, 10000, check_boc)"
   ]
  },
  {
   "cell_type": "markdown",
   "id": "d4c5e5f5",
   "metadata": {},
   "source": [
    "**(b) Bốc không hoàn lại.**"
   ]
  },
  {
   "cell_type": "code",
   "execution_count": 4,
   "id": "de5e91b6",
   "metadata": {},
   "outputs": [
    {
     "data": {
      "text/plain": [
       "0.2434"
      ]
     },
     "execution_count": 4,
     "metadata": {},
     "output_type": "execute_result"
    }
   ],
   "source": [
    "def boc_2(a):\n",
    "    b = []\n",
    "    a_copy = a.copy()\n",
    "    for i in range(10):\n",
    "        choose = random.choice(a_copy)\n",
    "        b.append(choose)\n",
    "        a_copy.remove(choose)\n",
    "    return b\n",
    "\n",
    "def fre_2(a, N, event):\n",
    "    m = sum(event(boc_2(a)) for _ in range(N))\n",
    "    return m/N\n",
    "\n",
    "fre_2(a, 10000, check_boc)"
   ]
  },
  {
   "cell_type": "code",
   "execution_count": null,
   "id": "3d7a6432",
   "metadata": {},
   "outputs": [],
   "source": []
  },
  {
   "cell_type": "markdown",
   "id": "a02be0e0",
   "metadata": {},
   "source": [
    "2. Bỏ ngẫu nhiên 2 lá bài trong bộ bài 52 lá. Chia đều ngẫu nhiên 50 lá còn lại cho 5 người.\n",
    "**Tính xác suất có người nào đó nhận được 4 lá Ách.**"
   ]
  },
  {
   "cell_type": "code",
   "execution_count": 5,
   "id": "f83d7d4d",
   "metadata": {},
   "outputs": [],
   "source": [
    "vals = ['2', '3', '4', '5', '6', '7', '8', '9', '10', 'jack', 'queen', 'king', 'ace']\n",
    "suits = ['spades', 'clubs', 'hearts', 'diamonds']\n",
    "\n",
    "deck = list(itertools.product(vals, suits))\n",
    "# len(deck)"
   ]
  },
  {
   "cell_type": "code",
   "execution_count": 6,
   "id": "e48bb73d",
   "metadata": {},
   "outputs": [
    {
     "data": {
      "text/plain": [
       "0.0042"
      ]
     },
     "execution_count": 6,
     "metadata": {},
     "output_type": "execute_result"
    }
   ],
   "source": [
    "def boc_3(deck):\n",
    "    deck_copy = deck.copy()\n",
    "    c_1 = random.choice(deck_copy)\n",
    "    deck_copy.remove(c_1)\n",
    "    c_2 = random.choice(deck_copy)\n",
    "    deck_copy.remove(c_2)\n",
    "    b = []\n",
    "    \n",
    "#     print(len(deck_copy))\n",
    "    for i in range(5):\n",
    "        c = []\n",
    "        for j in range(10):\n",
    "            choose = random.choice(deck_copy)\n",
    "            c.append(choose)\n",
    "            deck_copy.remove(choose)\n",
    "        b.append(c)\n",
    "    return b\n",
    "\n",
    "def check_boc_3(b):\n",
    "    aces = []\n",
    "    for per in b:\n",
    "        aces.append([card for card in per if 'ace' in card])\n",
    "            \n",
    "#     print(aces)\n",
    "    check = False\n",
    "    for i in aces:\n",
    "        if len(i) == 4:\n",
    "#             print(aces)\n",
    "            check = True\n",
    "            break\n",
    "    return check\n",
    "\n",
    "def fre_3(a, N, event):\n",
    "    m = sum(event(boc_3(a)) for _ in range(N))\n",
    "    return m/N\n",
    "\n",
    "fre_3(deck, 10000, check_boc_3)"
   ]
  },
  {
   "cell_type": "markdown",
   "id": "994ec4bd",
   "metadata": {},
   "source": [
    "3. Chọn ngẫu nhiên một số thực R trong khoảng $[0, 1]$ và dựng hình tròn có bán kính R.\n",
    "**(a) Tính kì vọng của diện tích hình tròn.**"
   ]
  },
  {
   "cell_type": "code",
   "execution_count": 7,
   "id": "9ee76d78",
   "metadata": {},
   "outputs": [
    {
     "name": "stdout",
     "output_type": "stream",
     "text": [
      "Mean:  1.0550787747914447\n"
     ]
    }
   ],
   "source": [
    "def generate_R(n):\n",
    "    return (np.random.uniform(0, 1, n) ** 2) * np.pi\n",
    "\n",
    "R_s = generate_R(10000)\n",
    "print('Mean: ', np.mean(R_s))"
   ]
  },
  {
   "cell_type": "markdown",
   "id": "595331e3",
   "metadata": {},
   "source": [
    "**(b) Tìm phân phối của diện tích hình tròn.**"
   ]
  },
  {
   "cell_type": "code",
   "execution_count": 8,
   "id": "b6a2cb00",
   "metadata": {},
   "outputs": [
    {
     "name": "stderr",
     "output_type": "stream",
     "text": [
      "C:\\Users\\ryedh\\anaconda3\\lib\\site-packages\\seaborn\\distributions.py:2557: FutureWarning: `distplot` is a deprecated function and will be removed in a future version. Please adapt your code to use either `displot` (a figure-level function with similar flexibility) or `histplot` (an axes-level function for histograms).\n",
      "  warnings.warn(msg, FutureWarning)\n"
     ]
    },
    {
     "data": {
      "text/plain": [
       "<AxesSubplot:ylabel='Density'>"
      ]
     },
     "execution_count": 8,
     "metadata": {},
     "output_type": "execute_result"
    },
    {
     "data": {
      "image/png": "[encoded data removed]",
      "text/plain": [
       "<Figure size 432x288 with 1 Axes>"
      ]
     },
     "metadata": {
      "needs_background": "light"
     },
     "output_type": "display_data"
    }
   ],
   "source": [
    "sns.distplot(R_s)"
   ]
  },
  {
   "cell_type": "code",
   "execution_count": null,
   "id": "af77d0d6",
   "metadata": {},
   "outputs": [],
   "source": []
  }
 ],
 "metadata": {
  "kernelspec": {
   "display_name": "Python 3",
   "language": "python",
   "name": "python3"
  },
  "language_info": {
   "codemirror_mode": {
    "name": "ipython",
    "version": 3
   },
   "file_extension": ".py",
   "mimetype": "text/x-python",
   "name": "python",
   "nbconvert_exporter": "python",
   "pygments_lexer": "ipython3",
   "version": "3.8.8"
  }
 },
 "nbformat": 4,
 "nbformat_minor": 5
}
