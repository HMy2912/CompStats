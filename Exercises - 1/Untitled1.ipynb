{
 "cells": [
  {
   "cell_type": "code",
   "execution_count": 1,
   "id": "f91c6c85",
   "metadata": {},
   "outputs": [],
   "source": [
    "import random\n",
    "from collections import Counter\n",
    "import numpy as np\n",
    "import matplotlib.pyplot as plt\n",
    "import scipy.stats as stats\n",
    "import pandas as pd"
   ]
  },
  {
   "cell_type": "markdown",
   "id": "a302f1e0",
   "metadata": {},
   "source": [
    "**Yêu cầu.** Từ một đồng xu có xác suất ra ngửa là $p$ $(0 < p < 1)$. Ta không biết giá trị của $p$, tìm cách sinh một biến cố có xác suất là 50%."
   ]
  },
  {
   "cell_type": "code",
   "execution_count": 2,
   "id": "53a52fc1",
   "metadata": {},
   "outputs": [
    {
     "data": {
      "text/plain": [
       "0.6988"
      ]
     },
     "execution_count": 2,
     "metadata": {},
     "output_type": "execute_result"
    }
   ],
   "source": [
    "def tung_dong_xu():\n",
    "    p = 0.7 # unknown\n",
    "    return random.choices([0, 1], [1 - p, p])[0]\n",
    "\n",
    "def tan_xuat(e, N):\n",
    "    return sum(e() for _ in range(N))/N\n",
    "\n",
    "tan_xuat(tung_dong_xu, 10000)"
   ]
  },
  {
   "cell_type": "markdown",
   "id": "a16588c1",
   "metadata": {},
   "source": [
    "**Trả lời.** Ta có thể sinh một biến cố có xác suất là 50% bằng thủ tục sau\n",
    "\n",
    "> *Bước 1.* Tung đồng xu 2 lần, gọi $m_1, m_2$ lần lượt là mặt ra của đồng xu ở lần 1, lần 2.\n",
    ">\n",
    "> *Bước 2.* Lặp lại Bước 1 cho đến khi $m_1 \\neq m_2$.\n",
    ">\n",
    "> *Bước 3.* Trả về biến cố \"$m_1$ là ngửa\"."
   ]
  },
  {
   "cell_type": "code",
   "execution_count": 3,
   "id": "7a2b9ea3",
   "metadata": {},
   "outputs": [
    {
     "data": {
      "text/plain": [
       "0.24999"
      ]
     },
     "execution_count": 3,
     "metadata": {},
     "output_type": "execute_result"
    }
   ],
   "source": [
    "def tung_dong_xu_can_bang():\n",
    "    while True:\n",
    "        a = []\n",
    "        for _ in range(4):\n",
    "            a.append(tung_dong_xu())\n",
    "            \n",
    "        if sum(a) == 1:\n",
    "            break\n",
    "    return a[0]\n",
    "\n",
    "tan_xuat(tung_dong_xu_can_bang, 100000)"
   ]
  },
  {
   "cell_type": "code",
   "execution_count": null,
   "id": "0cae10f1",
   "metadata": {},
   "outputs": [],
   "source": []
  },
  {
   "cell_type": "markdown",
   "id": "461d4302",
   "metadata": {},
   "source": [
    "### Thuật toán LCG"
   ]
  },
  {
   "cell_type": "code",
   "execution_count": 4,
   "id": "b636fd80",
   "metadata": {},
   "outputs": [],
   "source": [
    "# Algorithm LCG\n",
    "# Input:\n",
    "#   N (output sequence length)\n",
    "#   m > 1 (modulus)\n",
    "#   a ∈ {1, 2, . . . , m − 1} (multiplier)\n",
    "#   c ∈ {0, 1, . . . , m − 1} (increment)\n",
    "#   X0 ∈ {0, 1, . . . , m − 1} (seed)\n",
    "# Output: a sequence X1, X2, X3, . . . of pseudo random numbers\n",
    "def LCG(N, m, a, c, X0=0):\n",
    "    X = np.zeros((N,), dtype=\"int64\")\n",
    "    Xn = X0\n",
    "    for n in range(N):\n",
    "        Xn = (a*Xn + c) % m\n",
    "        X[n] = Xn\n",
    "    return X"
   ]
  },
  {
   "cell_type": "code",
   "execution_count": 5,
   "id": "25c3900d",
   "metadata": {},
   "outputs": [],
   "source": [
    "N = 10**5\n",
    "\n",
    "x = [None for _ in range(4)]\n",
    "x[0] = LCG(N, m=2**35, a=2**7, c=1)/2**35\n",
    "x[1] = LCG(N, m=2**32, a=69069, c=1327217885)/2**32\n",
    "x[2] = LCG(N, m=2**31, a=2**16 + 3, c=0)/2**31\n",
    "x[3] = np.random.uniform(size=N)"
   ]
  },
  {
   "cell_type": "code",
   "execution_count": 6,
   "id": "2f7b65a4",
   "metadata": {},
   "outputs": [
    {
     "data": {
      "image/png": "[encoded data removed]",
      "text/plain": [
       "<Figure size 432x288 with 4 Axes>"
      ]
     },
     "metadata": {
      "needs_background": "light"
     },
     "output_type": "display_data"
    }
   ],
   "source": [
    "# histogram\n",
    "fig, _ = plt.subplots(2, 2)\n",
    "for xi, ax in zip(x, fig.get_axes()):\n",
    "    ax.hist(xi, density=True, edgecolor=\"black\", linewidth=0.5)\n",
    "\n",
    "#plt.tight_layout()\n",
    "#plt.savefig('PRNG_hist.pdf')\n",
    "\n",
    "plt.show()"
   ]
  },
  {
   "cell_type": "code",
   "execution_count": null,
   "id": "e0bac641",
   "metadata": {},
   "outputs": [],
   "source": []
  }
 ],
 "metadata": {
  "kernelspec": {
   "display_name": "Python 3",
   "language": "python",
   "name": "python3"
  },
  "language_info": {
   "codemirror_mode": {
    "name": "ipython",
    "version": 3
   },
   "file_extension": ".py",
   "mimetype": "text/x-python",
   "name": "python",
   "nbconvert_exporter": "python",
   "pygments_lexer": "ipython3",
   "version": "3.8.8"
  }
 },
 "nbformat": 4,
 "nbformat_minor": 5
}
