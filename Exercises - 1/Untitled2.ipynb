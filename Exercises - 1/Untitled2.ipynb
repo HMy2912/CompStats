{
 "cells": [
  {
   "cell_type": "code",
   "execution_count": 1,
   "id": "bd97f2db",
   "metadata": {},
   "outputs": [],
   "source": [
    "from scipy import random\n",
    "import numpy as np\n",
    "import matplotlib.pyplot as plt\n",
    "%matplotlib inline"
   ]
  },
  {
   "cell_type": "code",
   "execution_count": 2,
   "id": "df01e614",
   "metadata": {},
   "outputs": [],
   "source": [
    "a = 0\n",
    "b = np.pi\n",
    "# limits"
   ]
  },
  {
   "cell_type": "code",
   "execution_count": 3,
   "id": "bc3a584c",
   "metadata": {},
   "outputs": [],
   "source": [
    "N = 1000\n",
    "xrand = np.zeros(N)"
   ]
  },
  {
   "cell_type": "code",
   "execution_count": 6,
   "id": "e82c9729",
   "metadata": {},
   "outputs": [
    {
     "data": {
      "text/plain": [
       "2.00350510795203"
      ]
     },
     "execution_count": 6,
     "metadata": {},
     "output_type": "execute_result"
    }
   ],
   "source": [
    "N = 10000   \n",
    "xrand = [random.uniform(a, b) for i in range(N)]\n",
    "\n",
    "def func(x):\n",
    "    return np.sin(x)\n",
    "\n",
    "integral = 0.0\n",
    "\n",
    "for i in range(N):\n",
    "    integral += func(xrand[i])\n",
    "    \n",
    "answer = (b-a)/N*integral\n",
    "answer"
   ]
  },
  {
   "cell_type": "code",
   "execution_count": null,
   "id": "2a392351",
   "metadata": {},
   "outputs": [],
   "source": []
  }
 ],
 "metadata": {
  "kernelspec": {
   "display_name": "Python 3",
   "language": "python",
   "name": "python3"
  },
  "language_info": {
   "codemirror_mode": {
    "name": "ipython",
    "version": 3
   },
   "file_extension": ".py",
   "mimetype": "text/x-python",
   "name": "python",
   "nbconvert_exporter": "python",
   "pygments_lexer": "ipython3",
   "version": "3.8.8"
  }
 },
 "nbformat": 4,
 "nbformat_minor": 5
}
