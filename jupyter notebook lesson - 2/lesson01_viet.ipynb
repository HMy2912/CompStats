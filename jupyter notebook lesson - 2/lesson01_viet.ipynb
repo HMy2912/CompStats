{
 "cells": [
  {
   "cell_type": "code",
   "execution_count": 1,
   "metadata": {},
   "outputs": [],
   "source": [
    "import random\n",
    "import matplotlib.pyplot as plt"
   ]
  },
  {
   "cell_type": "markdown",
   "metadata": {},
   "source": [
    "# Bài 1 - Ôn tập Xác suất Cơ bản và Giới thiệu Thống kê Tính toán (Review of Basic Probability and Introduction to Computational Statistics)\n",
    "\n",
    "**THỐNG KÊ MÁY TÍNH VÀ ỨNG DỤNG (Computational Statistics and Applications)**\n",
    "\n",
    "*(Vũ Quốc Hoàng, FIT - HCMUS, vqhoang@fit.hcmus.edu.vn)*"
   ]
  },
  {
   "cell_type": "markdown",
   "metadata": {},
   "source": [
    "## Chủ đề\n",
    "\n",
    "1. Cài đặt và dùng Jupyter Notebook\n",
    "2. Ôn tập Python và Matplotlib\n",
    "3. Ôn tập xác suất\n",
    "4. Ôn tập xác suất có điều kiện\n",
    "5. Xấp xỉ xác suất bằng phương pháp mô phỏng"
   ]
  },
  {
   "cell_type": "markdown",
   "metadata": {},
   "source": [
    "## Cài đặt và dùng Jupyter Notebook\n",
    "\n",
    "* Cài đặt [Anaconda](https://www.anaconda.com/)\n",
    "* Đọc hướng dẫn dùng [Jupyter Lab](https://jupyterlab.readthedocs.io/en/stable/)\n",
    "* Đọc hướng dẫn [Markdown](https://daringfireball.net/projects/markdown/)\n",
    "* Đọc hướng dẫn [HTML](https://www.w3schools.com/html/)\n",
    "* Đọc hướng dẫn [LaTeX/Mathematics](https://en.wikibooks.org/wiki/LaTeX/Mathematics)"
   ]
  },
  {
   "cell_type": "markdown",
   "metadata": {},
   "source": [
    "## Ôn tập Python và Matplotlib\n",
    "\n",
    "* [Python và Matplotlib cơ bản](https://github.com/vqhBook/python)\n",
    "* [The Python Tutorial](https://docs.python.org/3/tutorial/)\n",
    "* [Matplotlib Tutorials](https://matplotlib.org/stable/tutorials/index)"
   ]
  },
  {
   "cell_type": "markdown",
   "metadata": {},
   "source": [
    "## Ôn tập xác suất"
   ]
  },
  {
   "cell_type": "markdown",
   "metadata": {},
   "source": [
    "### Các khái niệm cơ bản"
   ]
  },
  {
   "cell_type": "markdown",
   "metadata": {},
   "source": [
    "**Lý thuyết xác suất** (probability theory) là ngành Toán học giúp định lượng, tính toán và suy diễn trên các hiện tượng **ngẫu nhiên** (random) và/hoặc **không chắc chắn** (uncertain)."
   ]
  },
  {
   "cell_type": "markdown",
   "metadata": {},
   "source": [
    "**Thí nghiệm ngẫu nhiên** (random experiment) là các quá trình/hoạt động/thử nghiệm/công việc/thao tác không biết chắc **kết quả** (outcome). Tập tất cả các kết quả có thể của một thí nghiệm ngẫu nhiên được gọi là **không gian mẫu** (sample space), thường kí hiệu là $S$ hay $\\Omega$ (omega)."
   ]
  },
  {
   "cell_type": "markdown",
   "metadata": {},
   "source": [
    "Nếu việc xảy ra hay không của một tình huống $E$ được xác định hoàn toàn khi biết kết quả $\\omega$ của thí nghiệm $T$ thì $E$ được gọi là **biến cố** (event) liên quan đến $T$. Nếu $\\omega$ làm cho $E$ xảy ra thì $\\omega$ được gọi là một kết quả thuận lợi cho $E$. Biến cố được xác định bởi các kết quả thuận lợi cho nó:\n",
    "$$E = \\{\\omega \\in \\Omega: \\omega \\text{ thuận lợi cho } E\\} \\subset \\Omega$$"
   ]
  },
  {
   "cell_type": "markdown",
   "metadata": {},
   "source": [
    "\"Lý thuyết biến cố\" được hình thức hóa bằng \"lý thuyết tập hợp\". Xét thí nghiệm $T$ với không gian mẫu $\\Omega$ và các biến cố $E, F \\subset \\Omega$:\n",
    "\n",
    "* $\\omega \\in \\Omega$: **biến cố sơ cấp** (elementary event)\n",
    "\n",
    "* $\\Omega$: **biến cố chắc chắn** (certain event)\n",
    "\n",
    "* $\\emptyset$: **biến cố không thể** (impossible event)\n",
    "\n",
    "* $E^c = \\Omega \\setminus E$: biến cố **đối** (complement) của $E$, biến cố \"$E$ không xảy ra\"\n",
    "\n",
    "* $E \\cup F$: biến cố $E$ **hoặc** (or) $F$, biến cố \"$E$ xảy ra hoặc $F$ xảy ra\"\n",
    "\n",
    "* $E \\cap F$: biến cố $E$ **và** (and) $F$, biến cố \"$E$ xảy ra và $F$ xảy ra\"\n",
    "\n",
    "* $E \\setminus F$: biến cố $E$ **không** (not) $F$, biến cố \"$E$ xảy ra nhưng $F$ không xảy ra\"\n",
    "\n",
    "* $E \\subset F$: $E$ **kéo theo** (imply) $F$, $E$ xảy ra thì $F$ xảy ra\n",
    "\n",
    "* $E = F$: $E$ **là** (is) $F$, $E$ xảy ra khi và chỉ khi $F$ xảy ra\n",
    "\n",
    "* $E \\cap F = \\emptyset$: $E, F$ **rời nhau** (disjoint) hay **xung khắc** (mutually exclusive), $E, F$ không thể đồng thời xảy ra"
   ]
  },
  {
   "cell_type": "markdown",
   "metadata": {},
   "source": [
    "**Xác suất** (probability) của biến cố $E$, kí hiệu $P(E)$, là số thực thuộc đoạn $[0, 1]$ định lượng khả năng xảy ra của $E$."
   ]
  },
  {
   "cell_type": "markdown",
   "metadata": {},
   "source": [
    "Xét thí nghiệm $T$ với không gian mẫu $\\Omega$, một hàm $P$ gắn mỗi biến cố $E \\subset \\Omega$ với số thực $P(E)$ được gọi là một **độ đo xác suất** (probability measure) trên $\\Omega$ nếu $P$ thỏa mãn 3 tiên đề:\n",
    "\n",
    "1. Với mọi biến cố $E \\subset \\Omega, 0 \\le P(E) \\le 1$\n",
    "\n",
    "2. Với mọi dãy biến cố $E_1, E_2, ...$ đôi một xung khắc $\\left(E_i \\cap E_j = \\emptyset, \\forall i \\ne j \\right)$:$$P\\left(\\bigcup_{i=1}^{\\infty}E_i\\right) = \\sum_{i=1}^{\\infty}P(E_i)$$\n",
    "\n",
    "3. $P(\\Omega) = 1$"
   ]
  },
  {
   "cell_type": "markdown",
   "metadata": {},
   "source": [
    "Các tính chất (hệ quả) cơ bản của xác suất\n",
    "\n",
    "* $P(E^c) = 1 - P(E)$\n",
    "\n",
    "* $P(\\emptyset) = 0$\n",
    "\n",
    "* Nếu $E_1 \\subset E_2$ thì $P(E_1) \\le P(E_2)$ và $P(E_2 \\setminus E_1) = P(E_2) - P(E_1)$\n",
    "\n",
    "* Nếu $E_1 \\cap E_2 = \\emptyset$ thì $P(E_1 \\cup E_2) = P(E_1) + P(E_2)$\n",
    "\n",
    "* $P(E_1 \\cup E_2) = P(E_1) + P(E_2) - P(E_1 \\cap E_2)$ (**addition law of probability**)\n",
    "\n",
    "* $P(E_1 \\cup E_2 \\cup E_3) = P(E_1) + P(E_2) + P(E_3)\\\\ - P(E_1 \\cap E_2) - P(E_1 \\cap E_3) - P(E_2 \\cap E_3)\\\\ + P(E_1 \\cap E_2 \\cap E_3)$\n",
    "\n",
    "* $P\\left(\\bigcup_{i=1}^{\\infty}E_i\\right) \\le \\sum_{i=1}^{\\infty}P(E_i)$ (**union bound**)\n",
    "\n",
    "* $P\\left(\\bigcap_{i=1}^{\\infty}E_i\\right) \\ge 1 - \\sum_{i=1}^{\\infty}P(E_i^c)$ (**Bonferroni inequality**)"
   ]
  },
  {
   "cell_type": "markdown",
   "metadata": {},
   "source": [
    "**Mô hình xác suất đơn giản** (simple/classical probability model): không gian mẫu **hữu hạn** (finite) và các **kết quả đồng khả năng** (equiprobable outcomes). Công thức tính xác suất biến cố:\n",
    "$$P(E) = \\frac{|E|}{|\\Omega|}$$\n",
    "Kí hiệu $|X|$ dùng để chỉ số lượng phần tử của tập hợp hữu hạn $X$. Trong mô hình xác suất đơn giản, việc tính xác suất được đưa về việc **đếm** (counting)."
   ]
  },
  {
   "cell_type": "markdown",
   "metadata": {},
   "source": [
    "Để xấp xỉ xác suất của một biến cố $A$ liên quan đến thí nghiệm $T$, ta có thể dùng phương pháp thống kê như sau\n",
    "\n",
    "> Thực hiện lặp lại $N$ lần (độc lập) thí nghiệm $T$ và đếm số lần biến cố $A$ xảy ra, $m$. Khi đó $f(A) = \\frac{m}{N}$ được gọi là tần suất của $A$. \n",
    "\n",
    "> Khi $N$ đủ lớn, ta có $f(A) \\approx P(A)$. \n",
    "\n",
    "> Việc thực hiện lặp lại nhiều lần thí nghiệm $T$ có thể được **mô phỏng** (simulate) trên máy tính. (Chẳng hạn dùng thư viện tạo số ngẫu nhiên [random](https://docs.python.org/3/library/random.html).)"
   ]
  },
  {
   "cell_type": "markdown",
   "metadata": {},
   "source": [
    "### Bài toán sinh nhật"
   ]
  },
  {
   "cell_type": "markdown",
   "metadata": {},
   "source": [
    "**Bài toán sinh nhật** (the birthday problem). Tính xác suất $p$ của biến cố có ít nhất 2 người cùng sinh nhật (cùng ngày và tháng sinh) trong nhóm $k$ người? \n",
    "    \n",
    "*Giả sử:* ngày sinh của mỗi người là một ngày ngẫu nhiên trong một năm gồm 365 ngày và “không liên quan nhau”."
   ]
  },
  {
   "cell_type": "markdown",
   "metadata": {},
   "source": [
    "**Tính toán chính xác**\n",
    "\n",
    "Không mất tính tổng quát, ta có thể gọi tập tất cả các ngày trong năm là\n",
    "$$\n",
    "\\mathcal{Y} = \\{1, 2, ..., 365\\}.\n",
    "$$\n",
    "\n",
    "Không gian mẫu $\\Omega = \\{(x_1, x_2, ..., x_k): x_i \\in \\mathcal{Y}, i = 1, ..., k\\} = \\mathcal{Y}^k$ có $|\\Omega| = 365^k$.\n",
    "\n",
    "Đặt các biến cố: \n",
    "\n",
    "  * $A$: “có ít nhất 2 người cùng sinh nhật”, \n",
    "  \n",
    "  * $B$: “không có người nào cùng sinh nhật”. \n",
    "\n",
    "Như vậy, $A = B^c$ và $B = \\{\\text{chỉnh hợp chọn } k \\text{ của } \\mathcal{Y}\\}$ với $|B| = P_{365}^k$.\n",
    "\n",
    "Dùng mô hình xác suất đơn giản ta có\n",
    "$$\n",
    "p = P(A) = 1 - P(B) = 1 - \\frac{P_{365}^k}{365^k} = 1 - \\frac{365!}{(365 - k)!365^k}.\n",
    "$$"
   ]
  },
  {
   "cell_type": "code",
   "execution_count": 2,
   "metadata": {},
   "outputs": [
    {
     "data": {
      "text/plain": [
       "0.9703735795779884"
      ]
     },
     "execution_count": 2,
     "metadata": {},
     "output_type": "execute_result"
    }
   ],
   "source": [
    "def perm(n, k):\n",
    "    p = 1\n",
    "    for i in range(n - k + 1, n + 1):\n",
    "        p *= i\n",
    "    return p\n",
    "\n",
    "def p(k):\n",
    "    return 1 - perm(365, k)/365**k\n",
    "\n",
    "p(50)"
   ]
  },
  {
   "cell_type": "markdown",
   "metadata": {},
   "source": [
    "**Mô phỏng**"
   ]
  },
  {
   "cell_type": "code",
   "execution_count": 3,
   "metadata": {},
   "outputs": [
    {
     "data": {
      "text/plain": [
       "0.972"
      ]
     },
     "execution_count": 3,
     "metadata": {},
     "output_type": "execute_result"
    }
   ],
   "source": [
    "def birthday(k):\n",
    "    return [random.randint(1, 365) for _ in range (k)]\n",
    "\n",
    "def at_least_2(outcome):\n",
    "    return len(set(outcome)) < len(outcome)\n",
    "\n",
    "def relative_frequency(k, N, event):\n",
    "    m = sum(event(birthday(k)) for _ in range (N))\n",
    "    return m/N\n",
    "\n",
    "relative_frequency(50 , 1000, at_least_2)"
   ]
  },
  {
   "cell_type": "code",
   "execution_count": 4,
   "metadata": {},
   "outputs": [
    {
     "data": {
      "image/png": "[encoded data removed]",
      "text/plain": [
       "<Figure size 432x288 with 1 Axes>"
      ]
     },
     "metadata": {
      "needs_background": "light"
     },
     "output_type": "display_data"
    }
   ],
   "source": [
    "N = 1000\n",
    "k_list = range(0, 60)\n",
    "P_list = [1 - perm(365, k)/365**k for k in k_list]\n",
    "F_list = [relative_frequency(k , 1000, at_least_2) for k in k_list]\n",
    "\n",
    "plt.plot(k_list, P_list, label=\"Closed-form\")\n",
    "plt.plot(k_list, F_list, label=f\"Simulation (N = {N})\")\n",
    "plt.legend()\n",
    "plt.xlabel(\"k\")\n",
    "plt.ylabel(\"p\")\n",
    "plt.title(\"Birthday problem\")\n",
    "#plt.savefig(\"birthday.pdf\", bbox_inches=\"tight\")\n",
    "plt.show()"
   ]
  },
  {
   "cell_type": "markdown",
   "metadata": {},
   "source": [
    "**Mở rộng bài toán**\n",
    "\n",
    "Tính xác suất $p$ của biến cố có ít nhất $t$ người cùng sinh nhật (cùng ngày và tháng sinh) trong nhóm $k$ người? "
   ]
  },
  {
   "cell_type": "code",
   "execution_count": 5,
   "metadata": {},
   "outputs": [
    {
     "name": "stdout",
     "output_type": "stream",
     "text": [
      "0.978\n",
      "0.11\n",
      "0.006\n"
     ]
    }
   ],
   "source": [
    "from collections import Counter\n",
    "\n",
    "def at_least_t(t):\n",
    "    def event_func(outcome):\n",
    "        counts = Counter(outcome)\n",
    "        return any(c >= t for c in counts.values())\n",
    "    \n",
    "    return event_func\n",
    "\n",
    "print(relative_frequency(50 , 1000, at_least_t(2)))\n",
    "print(relative_frequency(50 , 1000, at_least_t(3)))\n",
    "print(relative_frequency(50 , 1000, at_least_t(4)))"
   ]
  },
  {
   "cell_type": "code",
   "execution_count": 6,
   "metadata": {},
   "outputs": [
    {
     "data": {
      "image/png": "[encoded data removed]",
      "text/plain": [
       "<Figure size 432x288 with 1 Axes>"
      ]
     },
     "metadata": {
      "needs_background": "light"
     },
     "output_type": "display_data"
    }
   ],
   "source": [
    "N = 1000\n",
    "k_list = [10*k for k in range(1, 21)]\n",
    "t_list = [2, 3, 4]\n",
    "#k_list = [10*k for k in range(1, 51)]\n",
    "#t_list = [2, 3, 4, 5, 6, 7, 8, 9, 10]\n",
    "\n",
    "for t in t_list:\n",
    "    F_list = [relative_frequency(k , 1000, at_least_t(t)) for k in k_list]\n",
    "    plt.plot(k_list, F_list, label=f\"t = {t}\")\n",
    "\n",
    "plt.legend()\n",
    "plt.xlabel(\"k\")\n",
    "plt.ylabel(\"p\")\n",
    "plt.title(f\"Generalized birthday problem (Simulation N = {N})\")\n",
    "#plt.savefig(\"birthday_t.pdf\", bbox_inches=\"tight\")\n",
    "plt.show()"
   ]
  },
  {
   "cell_type": "markdown",
   "metadata": {},
   "source": [
    "## Ôn tập xác suất có điều kiện"
   ]
  },
  {
   "cell_type": "markdown",
   "metadata": {},
   "source": [
    "### Các khái niệm cơ bản"
   ]
  },
  {
   "cell_type": "markdown",
   "metadata": {},
   "source": [
    "**Xác suất có điều kiện** (conditional probability) của biến cố $E_2$ khi biết biến cố $E_1$ đã xảy ra được định nghĩa là:\n",
    "$$P(E_2 | E_1) = \\frac{P(E_1 \\cap E_2)}{P(E_1)}$$\n",
    "với $P(E_1 ) > 0$."
   ]
  },
  {
   "cell_type": "markdown",
   "metadata": {},
   "source": [
    "Các lưu ý về xác suất có điều kiện:\n",
    "* $P(E_2 | E_1)$ có thể hiểu là xác suất của $E_2$ \"tính trong không gian mẫu mới\" là $E_1$.\n",
    "* Cho biến cố $E_0$ với $P(E_0) > 0$ thì $P(. | E_0)$ là cách gắn xác suất (độ đo xác suất) hợp lệ.\n",
    "* Mọi tiên đề, tính chất, công thức xác suất đều đúng cho xác suất có điều kiện. Nói cách khác, các công thức xác suất vẫn đúng khi \"điều kiện hóa\".\n",
    "* $P(E) = P(E | \\Omega)$."
   ]
  },
  {
   "cell_type": "markdown",
   "metadata": {},
   "source": [
    "**Công thức nhân xác suất** (multiplication law of probability):\n",
    "$$P(E_1 \\cap E_2) = P(E_1) \\times P(E_2 | E_1)$$\n",
    "$$P(E_1 \\cap E_2 \\cap E_3 \\cap ... \\cap E_n) = P(E_1) \\times P(E_2 | E_1) \\times P(E_3 | E_1 \\cap E_2) \\times ... \\times P(E_n | E_1 \\cap E_2 \\cap ... \\cap E_{n-1})$$\n",
    "Trong nhiều trường hợp, xác suất có điều kiện dễ tính hơn \"xác suất đồng thời\"."
   ]
  },
  {
   "cell_type": "markdown",
   "metadata": {},
   "source": [
    "Họ các biến cố $\\{A_1, A_2, ..., A_n\\}$ được gọi là một **họ đầy đủ** hay một **phân hoạch** (partition) của $\\Omega$ nếu:\n",
    "  * $A_i \\cap A_j = \\emptyset, \\forall i \\ne j$ \n",
    "  * $\\Omega = A_1 \\cup A_2 \\cup ... \\cup A_n$\n",
    "  * $P(A_i) > 0, \\forall i$\n",
    "\n",
    "Nói cách khác, $A_1, A_2, ..., A_n$ là một cách chia trường hợp \"không trùng, không sót\" của $\\Omega$."
   ]
  },
  {
   "cell_type": "markdown",
   "metadata": {},
   "source": [
    "**Công thức xác suất toàn phần** (law of total probability): Cho họ đầy đủ $\\{A_1, A_2, ..., A_n\\}$ của $\\Omega$, với mọi biến cố $E$ ta có:\n",
    "$$P(E) = \\sum_{i=1}^{n} P(E \\cap A_i) = \\sum_{i=1}^{n} P(A_i)P(E | A_i)$$\n",
    "\n",
    "Đặc biệt, với $A \\subset \\Omega, 0 < P(A) < 1$:\n",
    "$$P(E) = P(E \\cap A) + P(E \\cap A^c) = P(A)P(E | A) + P(A^c)P(E | A^c)$$"
   ]
  },
  {
   "cell_type": "markdown",
   "metadata": {},
   "source": [
    "**Sơ đồ cây** (tree diagram) thường được dùng để xét các trường hợp và hỗ trợ tính xác suất các biến cố trong \"thí nghiệm nhiều giai đoạn\" rất trực quan."
   ]
  },
  {
   "cell_type": "markdown",
   "metadata": {},
   "source": [
    "**Định lý Bayes** (Bayes' theorem): Cho họ đầy đủ $\\{A_1, A_2, ..., A_n\\}$ của $\\Omega$ và biến cố $E$, $P(E) > 0$. Khi đó, $\\forall i = 1, ..., n$ ta có:\n",
    "$$P(A_i | E) = \\frac{P(A_i)P(E|A_i)}{P(E)} = \\frac{P(A_i)P(E|A_i)}{\\sum_{j=1}^{n}P(A_j)P(E|A_j)}$$\n",
    "  * $P(A_i)$: **xác suất tiên nghiệm** (prior probability) của $A_i$\n",
    "  * $P(A_i | E)$: **xác suất hậu nghiệm** (posterior probability) của $A_i$ khi biết $E$\n",
    "  * $P(E | A_i)$: **xác suất hợp lý** (likelihood) của $E$ theo $A_i$\n",
    "  * Lưu ý, $P(E)$ không phụ thuộc vào $A_i$ nên:\n",
    "  $$P(A_i | E) \\propto P(A_i)P(E | A_i)$$\n",
    "  (kí hiệu $\\propto$ là \"tỉ lệ với\")"
   ]
  },
  {
   "cell_type": "markdown",
   "metadata": {},
   "source": [
    "2 biến cố $\\{E, F\\}$ được gọi là **độc lập** (independent) nhau nếu:\n",
    "$$P(E \\cap F) = P(E)P(F)$$\n",
    "\n",
    "$\\{E, F\\}$ độc lập nếu $P(E|F) = P(E)$ ($P(F) > 0)$ hay $P(F|E) = P(F)$ ($P(E) > 0)$"
   ]
  },
  {
   "cell_type": "markdown",
   "metadata": {},
   "source": [
    "2 biến cố $\\{E, F\\}$ được gọi là **độc lập có điều kiện** (conditionally independent) khi biết $A$ ($P(A) > 0$) nếu:\n",
    "$$P(E \\cap F | A) = P(E | A)P(F | A)$$\n",
    "\n",
    "$\\{E, F\\}$ độc lập có điều kiện khi biết $A$ nếu $P(E|F \\cap A) = P(E | A)$ ($P(F | A) > 0)$ hay $P(F|E \\cap A) = P(F | A)$ ($P(E | A) > 0)$"
   ]
  },
  {
   "cell_type": "markdown",
   "metadata": {},
   "source": [
    "Họ các biến cố $\\{A_1, A_2, ..., A_n\\}$ được gọi là độc lập nếu với mọi tập con khác rỗng, hữu hạn $\\{B_1, B_2, ..., B_k\\}$ của họ, ta có:\n",
    "$$P(B_1 \\cap B_2 \\cap ... \\cap B_k) = P(B_1)P(B_2)...P(B_k)$$"
   ]
  },
  {
   "cell_type": "markdown",
   "metadata": {},
   "source": [
    "**Mô hình xác suất \"lặp lại thí nghiệm độc lập\"**: thực hiện lặp lại thí nghiệm $T$ nhiều lần một cách độc lập, gọi $A_i$ là biến cố \"liên quan đến lần thực hiện thứ $i$\" thì ta có công thức tính xác suất:\n",
    "$$P(A_1 \\cap A_2 \\cap ... \\cap A_n) = P(A_1)P(A_2) ... P(A_n)$$"
   ]
  },
  {
   "cell_type": "markdown",
   "metadata": {},
   "source": [
    "Để xấp xỉ xác suất có điều kiện của một biến cố $B$ khi biết biến cố $A$ đã xảy ra trong thí nghiệm $T$, ta có thể dùng phương pháp thống kê như sau\n",
    "\n",
    "> Thực hiện lặp lại $N$ lần (độc lập) thí nghiệm $T$, đếm số lần biến cố $A$ xảy ra, $m$, và trong các lần $A$ xảy ra thì đếm số lần $B$ cũng xảy ra, $p$. Khi đó $f_{B|A} = \\frac{p}{m}$ được gọi là tần suất của $B$ trên $A$. \n",
    "\n",
    "> Khi $N$ đủ lớn, ta có $f_{B|A} \\approx P(B|A)$. \n",
    "\n",
    "> Việc thực hiện lặp lại nhiều lần thí nghiệm $T$ có thể được mô phỏng (simulate) trên máy tính. (Chẳng hạn dùng thư viện tạo số ngẫu nhiên [random](https://docs.python.org/3/library/random.html).)"
   ]
  },
  {
   "cell_type": "markdown",
   "metadata": {},
   "source": [
    "### Bài toán Monty Hall"
   ]
  },
  {
   "cell_type": "markdown",
   "metadata": {},
   "source": [
    "**Monty Hall problem**. Có 3 cửa #1, #2, #3 chứa 1 xe và 2 con dê. Người chơi chọn 1 cửa (chẳng hạn #1). Người dẫn chương trình biết cửa nào có gì. Người dẫn chọn và mở cửa có dê trong 2 cửa còn lại (chẳng hạn #3). Người dẫn hỏi người chơi có muốn đổi lựa chọn không (vẫn giữ #1 hay chọn #2). Người chơi nên giữ hay đổi (để khả năng được xe cao hơn)?"
   ]
  },
  {
   "cell_type": "markdown",
   "metadata": {},
   "source": [
    "**Tính toán chính xác**\n",
    "\n",
    "Xem thêm \"Monty Hall problem\" tại [Wikipedia](https://en.wikipedia.org/wiki/Monty_Hall_problem).\n",
    "\n",
    "Do \"tính đối xứng\" nên ta có thể giả sử kịch bản như mô tả (người chơi chọn cửa #1, người dẫn mở cửa #3).\n",
    "\n",
    "Đặt $A_i$ là biến cố \"xe được đặt ở cửa #$i$\" $(1 \\le i \\le 3)$ và $B_j$ là biến cố \"người dẫn mở cửa #$j$\" $(1 \\le j \\le 3)$.\n",
    "\n",
    "Từ đề và kịch bản đã cho (người chơi chọn  cửa #1), ta có:\n",
    "* $P(A_1) = P(A_2) = P(A_3) = \\frac{1}{3}$\n",
    "* $P(B_3|A_1) = \\frac{1}{2}$ (người chơi đã chọn cửa #1, xe cũng được đặt ở cửa #1 nên người dẫn có thể mở 1 trong 2 cửa #2, #3)\n",
    "* $P(B_3|A_2) = 1$ (người chơi đã chọn cửa #1, xe được đặt ở cửa #2 nên người dẫn chỉ có thể mở cửa #3)\n",
    "* $P(B_3|A_3) = 0$ (xe được đặt ở cửa #3 nên người dẫn không được mở cửa #3)\n",
    "\n",
    "Dùng công thức Bayes, ta có xác suất người chơi được xe khi không đổi cửa là:\n",
    "\\begin{align*}\n",
    "    P(A_1|B_3) &= \\frac{P(A_1)P(B_3|A_1)}{P(A_1)P(B_3|A_1) + P(A_2)P(B_3|A_2) + P(A_3)P(B_3|A_3)}\\\\\n",
    "               &= \\frac{\\frac{1}{3}\\frac{1}{2}}{\\frac{1}{3}\\frac{1}{2} + \\frac{1}{3}1 + \\frac{1}{3}0}\\\\\n",
    "               &= \\frac{1}{3}\n",
    "\\end{align*}\n",
    "\n",
    "Dùng công thức Bayes, ta có xác suất người chơi được xe khi đổi cửa là:\n",
    "\\begin{align*}\n",
    "    P(A_2|B_3) &= \\frac{P(A_2)P(B_3|A_2)}{P(A_1)P(B_3|A_1) + P(A_2)P(B_3|A_2) + P(A_3)P(B_3|A_3)}\\\\\n",
    "               &= \\frac{\\frac{1}{3}1}{\\frac{1}{3}\\frac{1}{2} + \\frac{1}{3}1 + \\frac{1}{3}0}\\\\\n",
    "               &= \\frac{2}{3}\n",
    "\\end{align*}\n",
    "\n",
    "Vậy người chơi nên chọn đổi cửa (xác suất được xe cao gấp đôi so với không đổi cửa)."
   ]
  },
  {
   "cell_type": "markdown",
   "metadata": {},
   "source": [
    "**Mô phỏng**\n",
    "\n",
    "Xem [minh họa \"Monty Hall problem\" trong Bài 13, Vũ Quốc Hoàng, *Bí kíp luyện Lập trình nhập môn với Python*, hBook, 2020](https://github.com/vqhBook/python/blob/master/lesson13/Monty_Hall.py)."
   ]
  },
  {
   "cell_type": "code",
   "execution_count": 7,
   "metadata": {},
   "outputs": [
    {
     "name": "stdout",
     "output_type": "stream",
     "text": [
      "0.3394 0.6606\n"
     ]
    }
   ],
   "source": [
    "def Monty_Hall(doors={\"#1\", \"#2\", \"#3\"}):\n",
    "    car_door = random.choice(list(doors))\n",
    "    choice_door = random.choice(list(doors))\n",
    "    open_door = random.choice(list(doors - {choice_door, car_door}))\n",
    "    op_door = random.choice(list(doors - {choice_door, open_door}))\n",
    "    \n",
    "    return car_door == choice_door, car_door == op_door\n",
    "\n",
    "N = 10000\n",
    "results = [Monty_Hall() for _ in range(N)]\n",
    "\n",
    "stay_freq = sum([v for v, _ in results])/N\n",
    "switch_freq = sum([v for _, v in results])/N\n",
    "\n",
    "print(stay_freq, switch_freq)"
   ]
  },
  {
   "cell_type": "code",
   "execution_count": 8,
   "metadata": {},
   "outputs": [
    {
     "data": {
      "image/png": "[encoded data removed]",
      "text/plain": [
       "<Figure size 432x288 with 1 Axes>"
      ]
     },
     "metadata": {
      "needs_background": "light"
     },
     "output_type": "display_data"
    }
   ],
   "source": [
    "N_list = [100*i for i in range(1, 100)]\n",
    "stay_list = [0 for _ in range(len(N_list))]\n",
    "switch_list = [0 for _ in range(len(N_list))]\n",
    "\n",
    "for i, N in enumerate(N_list):\n",
    "    results = [Monty_Hall() for _ in range(N)]\n",
    "    stay_list[i] = sum([v for v, _ in results])/N\n",
    "    switch_list[i] = sum([v for _, v in results])/N\n",
    "\n",
    "plt.plot(N_list, stay_list, label=\"Stay\")\n",
    "plt.plot(N_list, switch_list, label=\"Switch\")\n",
    "plt.legend()\n",
    "plt.axhline(y=1/3, color='gray', linestyle='-')\n",
    "plt.axhline(y=2/3, color='gray', linestyle='-')\n",
    "plt.xlabel(\"N\")\n",
    "plt.ylabel(\"f\")\n",
    "plt.title(\"Monty Hall problem\")\n",
    "#plt.savefig(\"Monty_Hall.pdf\", bbox_inches=\"tight\")\n",
    "plt.show()"
   ]
  },
  {
   "cell_type": "markdown",
   "metadata": {},
   "source": [
    "## Tài liệu\n",
    "\n",
    "1. **Chapter 1-2**: Morris H. DeGroot, Mark J. Schervish. *Probability and Statistics*. Addison-Wesley, 2012.\n",
    "\n",
    "2. **Chapter 1-2**: H. Pishro-Nik, \"Introduction to probability, statistics, and random processes\", available at https://www.probabilitycourse.com, Kappa Research LLC, 2014."
   ]
  }
 ],
 "metadata": {
  "hide_input": false,
  "kernelspec": {
   "display_name": "Python 3",
   "language": "python",
   "name": "python3"
  },
  "language_info": {
   "codemirror_mode": {
    "name": "ipython",
    "version": 3
   },
   "file_extension": ".py",
   "mimetype": "text/x-python",
   "name": "python",
   "nbconvert_exporter": "python",
   "pygments_lexer": "ipython3",
   "version": "3.11.1 (tags/v3.11.1:a7a450f, Dec  6 2022, 19:58:39) [MSC v.1934 64 bit (AMD64)]"
  },
  "vscode": {
   "interpreter": {
    "hash": "b91f41160b83ffc59c7e17fa6fd02d637d5dcf1d5e59aa2db87d82178661b954"
   }
  }
 },
 "nbformat": 4,
 "nbformat_minor": 4
}
